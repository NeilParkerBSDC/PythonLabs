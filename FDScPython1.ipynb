{
  "metadata": {
    "language_info": {
      "codemirror_mode": {
        "name": "python",
        "version": 3
      },
      "file_extension": ".py",
      "mimetype": "text/x-python",
      "name": "python",
      "nbconvert_exporter": "python",
      "pygments_lexer": "ipython3",
      "version": "3.8"
    },
    "kernelspec": {
      "name": "python",
      "display_name": "Python (Pyodide)",
      "language": "python"
    }
  },
  "nbformat_minor": 4,
  "nbformat": 4,
  "cells": [
    {
      "cell_type": "markdown",
      "source": "# Foundation Degree - Introduction to Software Development\n## Procedural Programming with Python\n## Python Lab 1\n\n> This lab covers the following parts of a command line procedural program in the Python language&#720;\n> - Basic Output (**print** command)\n> - Basic Input (**input** command)\n> - Creating variables to store single items of data\n> - Assigning values to variables\n> - Data types, Type Casting and Type inference\n> - Processing information  (using **Operators**)\n\nThis lab will give you and insruction and you can then experiemnt with coding a solution in the code box below it. You can then test run it to see if it works",
      "metadata": {}
    },
    {
      "cell_type": "markdown",
      "source": "### Task 1: Create a Hello world Program\n\n\nThe line of code below introduces the **print** command.\n\n```print(\"hello world\")```\n\n**Note**\n- \"*print*\" is the command\n- the thing to be pronted is placed between nromal round brackets: ()\n- Because \"Hello World is Text\" - i.e. the \"*string*\" datatype, it goes in inverted commas: \"\"\n\nTry it in the code box below. What happens if you miss out the brackets or the inverted commas?",
      "metadata": {}
    },
    {
      "cell_type": "code",
      "source": "",
      "metadata": {
        "trusted": true
      },
      "execution_count": null,
      "outputs": []
    },
    {
      "cell_type": "markdown",
      "source": "### Task 2: Concatentating text\n\n\"*Concatenating*\" means joinng two pieces of data together. Python uses the **+** operator to join two pieoes of text together\n\n```print(\"Hello\" + \"World\")```\n\nNote that the two words are joined to gether - but there is no space - correct the code so that there is a space\n",
      "metadata": {}
    },
    {
      "cell_type": "markdown",
      "source": "### Task 3: Handling Numbers\n\nSo far we have only been dealing with one data type - text (referred to a a \"*string*\"\n\nAnother data type is a number. In python this could either be an **integer** (a whole number) or a **float** (a fractional number - \"*float*\" is short for \"*floating point number*\". The type you choose depends on whether you are likely to be doing any calculations which result in a fractional value - e.g. if you add, subtract or multiply two whole numbers, the answer you get will always be a whoie number, but if you divide two whole numbers the result may be a fraction.\n\nIn the code below we are creating a variable to store the answer of a calculation and then printing it:\n\n```\nanswer = 36 + 23\nprint(answer)\n```\nNote *answer* is a variable, so doens't need to be in inverted commas.\n\nTry it below.",
      "metadata": {}
    },
    {
      "cell_type": "code",
      "source": "",
      "metadata": {
        "trusted": true
      },
      "execution_count": null,
      "outputs": []
    },
    {
      "cell_type": "markdown",
      "source": "You could also do the calculation as part of a print command (but it wouldn't be stored for later use):\n\n```\nprint(26 + 23)\n```\n\nNote that with numbers + adds rather than concatenates (joins) the two peices of data. That's why it is important the program knows what type of data it is.\n\nYou can declare a data type when you create the variable, but if you don't the program will guess it. This is called \"***Type inference***\"",
      "metadata": {}
    },
    {
      "cell_type": "markdown",
      "source": "Now let's try some calculations:\n\nType the following code:\n\n```\nnumber1= 36\nnumber2 = 23\nanswer=number1 + number 2\nprint(answer)\n```",
      "metadata": {}
    },
    {
      "cell_type": "code",
      "source": "",
      "metadata": {},
      "execution_count": null,
      "outputs": []
    },
    {
      "cell_type": "markdown",
      "source": "Did you get the answer 59?",
      "metadata": {}
    },
    {
      "cell_type": "markdown",
      "source": "### Task 4: Getting **input** into the program\n\nWe are now going to extend the calculator code we started with in **Task 3** with by getting some input from the user. This will make the whole thing much more of a useful program. For this we use the **input** command\n\nLet start by inputting some simple text, so we can test out the input command:\n\n```\nmyName=input(\"What is your name? \")\nprint(\"Hello \" + myName)\n```\n\nHere I am creating a variable called myName to store the information the use typesin. The input command creates a prompt in the command line interface with the message in inverted commas - i.e. ```input(\"a prompt will appear with this text\").```\n\nUnfortunately due to a bug in Jupyter, this will not run properly in the box below, so you may need to try this in another editor e.g. IDLE, Visual Studio Code or  online at Repl.it\n",
      "metadata": {}
    },
    {
      "cell_type": "code",
      "source": "",
      "metadata": {
        "trusted": true
      },
      "execution_count": null,
      "outputs": []
    },
    {
      "cell_type": "markdown",
      "source": "We can now ammend our calculation code to accept input from the user:\n\n```\nnumber1= input(\"Give me your first number \")\nnumber2 = input(\"Give me you second number \")\nanswer=number1 + number2\nprint(answer)\n```\n\nUnfortunately due to a bug in Jupyter, this will not run properly in the box below, so you may need to try this in another editor e.g. IDLE, Visual Studio Code or  online at Repl.it",
      "metadata": {}
    },
    {
      "cell_type": "code",
      "source": "",
      "metadata": {},
      "execution_count": null,
      "outputs": []
    },
    {
      "cell_type": "markdown",
      "source": "This program runs, but does not give the result we were expecting - the two numbers have been concatenated (joined together) rather than added. This is because the input command default any inpout to being of the \"*string*\" data type. We need to force it to treat the dat inout as a number. This is clalled **type casting**.\n\nthe following code takes a number we have input (which by default is treated as a string) and coverts it to a number:\n\n```\nthisNumberAsInput=input(\"give me a number\")\nnumberAsInteger=int(thisNumberAsInput)\n```\n\nso we need to ammend our calculation code as follows\n\n```\nnumber1= int(input(\"Give me your first number \"))\nnumber2 = int(input(\"Give me you second number \"))\nanswer=number1 + number2\nprint(answer)\n```\n\nUnfortunately due to a bug in Jupyter, this will not run properly in the box below, so you may need to try this in another editor e.g. IDLE, Visual Studio Code or  online at Repl.it",
      "metadata": {}
    },
    {
      "cell_type": "code",
      "source": "",
      "metadata": {},
      "execution_count": null,
      "outputs": []
    }
  ]
}